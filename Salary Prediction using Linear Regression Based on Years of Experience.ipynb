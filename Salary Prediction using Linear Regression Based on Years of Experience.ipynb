{
 "cells": [
  {
   "cell_type": "code",
   "execution_count": 1,
   "id": "cultural-maine",
   "metadata": {},
   "outputs": [
    {
     "data": {
      "text/html": [
       "<div>\n",
       "<style scoped>\n",
       "    .dataframe tbody tr th:only-of-type {\n",
       "        vertical-align: middle;\n",
       "    }\n",
       "\n",
       "    .dataframe tbody tr th {\n",
       "        vertical-align: top;\n",
       "    }\n",
       "\n",
       "    .dataframe thead th {\n",
       "        text-align: right;\n",
       "    }\n",
       "</style>\n",
       "<table border=\"1\" class=\"dataframe\">\n",
       "  <thead>\n",
       "    <tr style=\"text-align: right;\">\n",
       "      <th></th>\n",
       "      <th>YearsExperience</th>\n",
       "      <th>Salary</th>\n",
       "    </tr>\n",
       "  </thead>\n",
       "  <tbody>\n",
       "    <tr>\n",
       "      <th>0</th>\n",
       "      <td>1.1</td>\n",
       "      <td>39343</td>\n",
       "    </tr>\n",
       "    <tr>\n",
       "      <th>1</th>\n",
       "      <td>1.3</td>\n",
       "      <td>46205</td>\n",
       "    </tr>\n",
       "    <tr>\n",
       "      <th>2</th>\n",
       "      <td>1.5</td>\n",
       "      <td>37731</td>\n",
       "    </tr>\n",
       "    <tr>\n",
       "      <th>3</th>\n",
       "      <td>2.0</td>\n",
       "      <td>43525</td>\n",
       "    </tr>\n",
       "    <tr>\n",
       "      <th>4</th>\n",
       "      <td>2.2</td>\n",
       "      <td>39891</td>\n",
       "    </tr>\n",
       "  </tbody>\n",
       "</table>\n",
       "</div>"
      ],
      "text/plain": [
       "   YearsExperience  Salary\n",
       "0              1.1   39343\n",
       "1              1.3   46205\n",
       "2              1.5   37731\n",
       "3              2.0   43525\n",
       "4              2.2   39891"
      ]
     },
     "execution_count": 1,
     "metadata": {},
     "output_type": "execute_result"
    }
   ],
   "source": [
    "#load Data\n",
    "import numpy as np\n",
    "import pandas as pd\n",
    "data = pd.read_csv(\"Salary.csv\")\n",
    "data.head()\n"
   ]
  },
  {
   "cell_type": "code",
   "execution_count": 2,
   "id": "unsigned-doctor",
   "metadata": {},
   "outputs": [],
   "source": [
    "X = data.iloc[:,:-1].values\n",
    "y = data.iloc[:,1:].values\n"
   ]
  },
  {
   "cell_type": "code",
   "execution_count": 3,
   "id": "numerous-cambridge",
   "metadata": {},
   "outputs": [],
   "source": [
    "#spliting data into training and testing\n",
    "from sklearn.model_selection import train_test_split\n",
    "X_train, X_test,y_train,y_test = train_test_split(X,y,test_size=0.3,random_state =35)"
   ]
  },
  {
   "cell_type": "markdown",
   "id": "interstate-collins",
   "metadata": {},
   "source": [
    "Fit model to Training set"
   ]
  },
  {
   "cell_type": "code",
   "execution_count": 4,
   "id": "listed-primary",
   "metadata": {},
   "outputs": [
    {
     "data": {
      "text/plain": [
       "LinearRegression()"
      ]
     },
     "execution_count": 4,
     "metadata": {},
     "output_type": "execute_result"
    }
   ],
   "source": [
    "from sklearn.linear_model import LinearRegression\n",
    "L = LinearRegression()\n",
    "L.fit(X_train,y_train)"
   ]
  },
  {
   "cell_type": "markdown",
   "id": "saved-tower",
   "metadata": {},
   "source": [
    "Predict the test Set"
   ]
  },
  {
   "cell_type": "code",
   "execution_count": 5,
   "id": "cardiac-private",
   "metadata": {},
   "outputs": [
    {
     "data": {
      "text/plain": [
       "0.8948552825977337"
      ]
     },
     "execution_count": 5,
     "metadata": {},
     "output_type": "execute_result"
    }
   ],
   "source": [
    "#making the prediction\n",
    "y_pred = L.predict(X_test)\n",
    "#accuracy\n",
    "L.score(X_test,y_test)"
   ]
  },
  {
   "cell_type": "code",
   "execution_count": 6,
   "id": "technological-parking",
   "metadata": {},
   "outputs": [
    {
     "data": {
      "image/png": "[encoded data removed]",
      "text/plain": [
       "<Figure size 432x288 with 1 Axes>"
      ]
     },
     "metadata": {
      "needs_background": "light"
     },
     "output_type": "display_data"
    }
   ],
   "source": [
    "#visualizing the Training Set Result\n",
    "import matplotlib.pyplot as plt\n",
    "#plot the actual data points of training set\n",
    "plt.scatter(X_train,y_train,color='green')\n",
    "#now ploting the regression line\n",
    "plt.plot(X_train,L.predict(X_train),color='red')\n",
    "plt.title('Salary vs Experience (Training set)',color='white')\n",
    "plt.xlabel('Years of Experience',color='white')\n",
    "plt.ylabel('Salary',color='white')\n",
    "plt.show()"
   ]
  },
  {
   "cell_type": "code",
   "execution_count": 7,
   "id": "brown-conditions",
   "metadata": {},
   "outputs": [
    {
     "data": {
      "image/png": "[encoded data removed]",
      "text/plain": [
       "<Figure size 432x288 with 1 Axes>"
      ]
     },
     "metadata": {
      "needs_background": "light"
     },
     "output_type": "display_data"
    }
   ],
   "source": [
    "# Visualize test set results\n",
    "import matplotlib.pyplot as plt\n",
    "# plot the actual data points of test set\n",
    "plt.scatter(X_test, y_test, color = 'green')\n",
    "# plot the regression line (same as above)\n",
    "plt.plot(X_train, L.predict(X_train), color='blue')\n",
    "plt.title('Salary vs Experience (Test set)',color='black')\n",
    "plt.xlabel('Years of Experience',color='black')\n",
    "plt.ylabel('Salary',color='black')\n",
    "plt.show()"
   ]
  },
  {
   "cell_type": "code",
   "execution_count": 8,
   "id": "heard-sharp",
   "metadata": {},
   "outputs": [
    {
     "name": "stdout",
     "output_type": "stream",
     "text": [
      "Predicted salary for 9.2 years is : [[108614.10122083]]\n"
     ]
    }
   ],
   "source": [
    "#Making the new production'\n",
    "new_salary_pred = L.predict([[9.2]])\n",
    "print(\"Predicted salary for 9.2 years is :\",new_salary_pred)"
   ]
  },
  {
   "cell_type": "code",
   "execution_count": 9,
   "id": "written-serial",
   "metadata": {},
   "outputs": [],
   "source": [
    "#Linear Regresion -- 108614\n",
    "# SVR -- 90429\n",
    "#Decison Tree Regression --105582\n",
    "#Polynomial Regression -- 113550 \n",
    "\n",
    "#Actual 9.0 -- 105582"
   ]
  },
  {
   "cell_type": "code",
   "execution_count": 10,
   "id": "conceptual-bargain",
   "metadata": {},
   "outputs": [],
   "source": [
    "#saving the model using 'pickle'\n",
    "import pickle\n",
    "\n",
    "# for saving we use following method\n",
    "with open('salary_model_pickle.pkl','wb') as f:\n",
    "    pickle.dump(L,f)"
   ]
  },
  {
   "cell_type": "code",
   "execution_count": 13,
   "id": "southwest-range",
   "metadata": {},
   "outputs": [],
   "source": [
    "with open('salary_model_pickle.pkl','rb') as f:\n",
    "    mp = pickle.load(f) #here 'mp' is the object of model"
   ]
  },
  {
   "cell_type": "code",
   "execution_count": 14,
   "id": "motivated-sheriff",
   "metadata": {},
   "outputs": [
    {
     "data": {
      "text/plain": [
       "array([[108614.10122083]])"
      ]
     },
     "execution_count": 14,
     "metadata": {},
     "output_type": "execute_result"
    }
   ],
   "source": [
    "mp.predict([[9.2]])"
   ]
  },
  {
   "cell_type": "code",
   "execution_count": 15,
   "id": "adopted-pulse",
   "metadata": {},
   "outputs": [
    {
     "ename": "AttributeError",
     "evalue": "'LinearRegression' object has no attribute 'summary'",
     "output_type": "error",
     "traceback": [
      "\u001b[1;31m--------------------------------------------------------------------\u001b[0m",
      "\u001b[1;31mAttributeError\u001b[0m                     Traceback (most recent call last)",
      "\u001b[1;32m<ipython-input-15-1fafe57e4b4c>\u001b[0m in \u001b[0;36m<module>\u001b[1;34m\u001b[0m\n\u001b[1;32m----> 1\u001b[1;33m \u001b[0mprint\u001b[0m\u001b[1;33m(\u001b[0m\u001b[0mL\u001b[0m\u001b[1;33m.\u001b[0m\u001b[0msummary\u001b[0m\u001b[1;33m(\u001b[0m\u001b[1;33m)\u001b[0m\u001b[1;33m)\u001b[0m\u001b[1;33m\u001b[0m\u001b[1;33m\u001b[0m\u001b[0m\n\u001b[0m",
      "\u001b[1;31mAttributeError\u001b[0m: 'LinearRegression' object has no attribute 'summary'"
     ]
    }
   ],
   "source": [
    "print(L.summary())"
   ]
  },
  {
   "cell_type": "code",
   "execution_count": null,
   "id": "answering-asthma",
   "metadata": {},
   "outputs": [],
   "source": []
  }
 ],
 "metadata": {
  "kernelspec": {
   "display_name": "Python 3",
   "language": "python",
   "name": "python3"
  },
  "language_info": {
   "codemirror_mode": {
    "name": "ipython",
    "version": 3
   },
   "file_extension": ".py",
   "mimetype": "text/x-python",
   "name": "python",
   "nbconvert_exporter": "python",
   "pygments_lexer": "ipython3",
   "version": "3.7.4"
  }
 },
 "nbformat": 4,
 "nbformat_minor": 5
}
